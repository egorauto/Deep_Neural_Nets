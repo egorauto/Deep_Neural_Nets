{
 "cells": [
  {
   "cell_type": "code",
   "execution_count": 1,
   "metadata": {
    "ExecuteTime": {
     "end_time": "2020-01-14T20:46:55.330203Z",
     "start_time": "2020-01-14T20:46:48.137581Z"
    }
   },
   "outputs": [],
   "source": [
    "import os\n",
    "import math\n",
    "from datetime import datetime\n",
    "import sys\n",
    "import time\n",
    "import numpy as np\n",
    "\n",
    "import tensorflow as tf\n",
    "import matplotlib.pyplot as plt\n",
    "import tensorflow.keras.layers as layers\n",
    "import random"
   ]
  },
  {
   "cell_type": "code",
   "execution_count": 26,
   "metadata": {
    "ExecuteTime": {
     "end_time": "2020-01-14T21:12:47.139797Z",
     "start_time": "2020-01-14T21:12:46.677341Z"
    }
   },
   "outputs": [
    {
     "name": "stdout",
     "output_type": "stream",
     "text": [
      "The tensorboard extension is already loaded. To reload it, use:\n",
      "  %reload_ext tensorboard\n",
      "Model: \"sequential_15\"\n",
      "_________________________________________________________________\n",
      "Layer (type)                 Output Shape              Param #   \n",
      "=================================================================\n",
      "dense_30 (Dense)             (None, 2, 2)              0         \n",
      "_________________________________________________________________\n",
      "re_lu_26 (ReLU)              (None, 2, 2)              0         \n",
      "_________________________________________________________________\n",
      "dense_31 (Dense)             (None, 2, 2)              4         \n",
      "_________________________________________________________________\n",
      "re_lu_27 (ReLU)              (None, 2, 2)              0         \n",
      "=================================================================\n",
      "Total params: 4\n",
      "Trainable params: 4\n",
      "Non-trainable params: 0\n",
      "_________________________________________________________________\n",
      "WARNING:tensorflow:Trace already enabled\n",
      "WARNING:tensorflow:Model was constructed with shape Tensor(\"input_16:0\", shape=(None, 2, 0), dtype=float32) for input (None, 2, 0), but it was re-called on a Tensor with incompatible shape (2, 0).\n"
     ]
    }
   ],
   "source": [
    "%load_ext tensorboard\n",
    "!rm -rf ./logs/ \n",
    "\n",
    "input_shape = (2, 0)\n",
    "output_shape = 2\n",
    "\n",
    "model = tf.keras.Sequential([\n",
    "        layers.Input(shape=input_shape),\n",
    "        layers.Dense(2, use_bias=False),\n",
    "        layers.ReLU(),\n",
    "        layers.Dense(output_shape, use_bias=False),\n",
    "        layers.ReLU()\n",
    "    ])\n",
    "\n",
    "model.summary()\n",
    "\n",
    "loss = tf.keras.losses.mean_squared_error\n",
    "optimizer = tf.keras.optimizers.Adam()\n",
    "\n",
    "# tensorboard writer\n",
    "current_time = datetime.now().strftime(\"%Y%m%d-%H%M%S\")\n",
    "graph_logdir = 'logs/func/%s' % current_time\n",
    "graph_writer = tf.summary.create_file_writer(graph_logdir)\n",
    "\n",
    "@tf.function\n",
    "def graph_trace_function(x, y):\n",
    "    logits = model(x, training=True)\n",
    "    loss_value = loss(y, logits)\n",
    "    tf.gradients(loss_value, x)\n",
    "    return loss_value\n",
    "\n",
    "tf.summary.trace_on(graph=True, profiler=True)\n",
    "loss_value = graph_trace_function(tf.zeros(input_shape), tf.zeros(output_shape))\n",
    "\n",
    "with graph_writer.as_default():\n",
    "    tf.summary.trace_export(\n",
    "        name=\"my_func_trace\",\n",
    "        step=0,\n",
    "        profiler_outdir=graph_logdir)\n",
    "\n",
    "%tensorboard --logdir logs"
   ]
  },
  {
   "cell_type": "code",
   "execution_count": 27,
   "metadata": {
    "ExecuteTime": {
     "end_time": "2020-01-14T21:12:50.064471Z",
     "start_time": "2020-01-14T21:12:50.041976Z"
    }
   },
   "outputs": [
    {
     "data": {
      "text/plain": [
       "Reusing TensorBoard on port 6009 (pid 41793), started 0:18:27 ago. (Use '!kill 41793' to kill it.)"
      ]
     },
     "metadata": {},
     "output_type": "display_data"
    },
    {
     "data": {
      "text/html": [
       "\n",
       "      <iframe id=\"tensorboard-frame-7b973cda09b5cf3b\" width=\"100%\" height=\"800\" frameborder=\"0\">\n",
       "      </iframe>\n",
       "      <script>\n",
       "        (function() {\n",
       "          const frame = document.getElementById(\"tensorboard-frame-7b973cda09b5cf3b\");\n",
       "          const url = new URL(\"/\", window.location);\n",
       "          url.port = 6009;\n",
       "          frame.src = url;\n",
       "        })();\n",
       "      </script>\n",
       "  "
      ],
      "text/plain": [
       "<IPython.core.display.HTML object>"
      ]
     },
     "metadata": {},
     "output_type": "display_data"
    }
   ],
   "source": [
    "%tensorboard --logdir logs"
   ]
  },
  {
   "cell_type": "code",
   "execution_count": null,
   "metadata": {},
   "outputs": [],
   "source": []
  }
 ],
 "metadata": {
  "accelerator": "GPU",
  "colab": {
   "collapsed_sections": [],
   "name": "hw9.ipynb",
   "provenance": []
  },
  "kernelspec": {
   "display_name": "Python 3",
   "language": "python",
   "name": "python3"
  },
  "language_info": {
   "codemirror_mode": {
    "name": "ipython",
    "version": 3
   },
   "file_extension": ".py",
   "mimetype": "text/x-python",
   "name": "python",
   "nbconvert_exporter": "python",
   "pygments_lexer": "ipython3",
   "version": "3.7.6"
  },
  "varInspector": {
   "cols": {
    "lenName": 16,
    "lenType": 16,
    "lenVar": 40
   },
   "kernels_config": {
    "python": {
     "delete_cmd_postfix": "",
     "delete_cmd_prefix": "del ",
     "library": "var_list.py",
     "varRefreshCmd": "print(var_dic_list())"
    },
    "r": {
     "delete_cmd_postfix": ") ",
     "delete_cmd_prefix": "rm(",
     "library": "var_list.r",
     "varRefreshCmd": "cat(var_dic_list()) "
    }
   },
   "types_to_exclude": [
    "module",
    "function",
    "builtin_function_or_method",
    "instance",
    "_Feature"
   ],
   "window_display": false
  }
 },
 "nbformat": 4,
 "nbformat_minor": 1
}
