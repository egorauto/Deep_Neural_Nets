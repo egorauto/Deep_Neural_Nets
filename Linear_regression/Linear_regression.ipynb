{
 "cells": [
  {
   "cell_type": "code",
   "execution_count": null,
   "metadata": {
    "ExecuteTime": {
     "end_time": "2019-11-15T21:41:28.421865Z",
     "start_time": "2019-11-15T21:41:18.153097Z"
    }
   },
   "outputs": [],
   "source": [
    "# https://rasbt.github.io/mlxtend/user_guide/data/loadlocal_mnist/\n",
    "!curl -O http://yann.lecun.com/exdb/mnist/train-images-idx3-ubyte.gz\n",
    "!curl -O http://yann.lecun.com/exdb/mnist/train-labels-idx1-ubyte.gz\n",
    "!curl -O http://yann.lecun.com/exdb/mnist/t10k-images-idx3-ubyte.gz\n",
    "!curl -O http://yann.lecun.com/exdb/mnist/t10k-labels-idx1-ubyte.gz\n",
    "!gunzip t*-ubyte.gz\n",
    "!pip install mlxtend"
   ]
  },
  {
   "cell_type": "code",
   "execution_count": 8,
   "metadata": {
    "ExecuteTime": {
     "end_time": "2019-11-15T23:36:07.237200Z",
     "start_time": "2019-11-15T23:36:07.221738Z"
    }
   },
   "outputs": [],
   "source": [
    "import numpy as np\n",
    "import matplotlib.pyplot as plt\n",
    "from mlxtend.data import loadlocal_mnist\n",
    "%matplotlib inline"
   ]
  },
  {
   "cell_type": "code",
   "execution_count": 2,
   "metadata": {
    "ExecuteTime": {
     "end_time": "2019-11-15T23:35:23.555104Z",
     "start_time": "2019-11-15T23:35:23.509485Z"
    }
   },
   "outputs": [
    {
     "name": "stdout",
     "output_type": "stream",
     "text": [
      "Dimensions: 60000 x 784\n"
     ]
    }
   ],
   "source": [
    "''''\n",
    "group member 1: Andrei Ilic\n",
    "group member 2: Georgy Antonov\n",
    "\n",
    "'''\n",
    "\n",
    "# Provide paths to the local MNIST dataset\n",
    "train_im_path  = '/Users/GA/Documents/Tübingen/DNNs/Homework/Code/mnist/train-images-idx3-ubyte'\n",
    "train_lab_path = '/Users/GA/Documents/Tübingen/DNNs/Homework/Code/mnist/train-labels-idx1-ubyte'\n",
    "test_im_path   = '/Users/GA/Documents/Tübingen/DNNs/Homework/Code/mnist/t10k-images-idx3-ubyte'\n",
    "test_lab_path  = '/Users/GA/Documents/Tübingen/DNNs/Homework/Code/mnist/t10k-labels-idx1-ubyte'\n",
    "\n",
    "# Load \n",
    "X_train, y_train = loadlocal_mnist(\n",
    "                    images_path=train_im_path, \n",
    "                    labels_path=train_lab_path)\n",
    "\n",
    "X_test, y_test = loadlocal_mnist(\n",
    "                   images_path=test_im_path, \n",
    "                   labels_path=test_lab_path)\n",
    "\n",
    "print('Dimensions: %s x %s' % (X_train.shape[0], X_train.shape[1]))"
   ]
  },
  {
   "cell_type": "code",
   "execution_count": 3,
   "metadata": {
    "ExecuteTime": {
     "end_time": "2019-11-15T23:35:24.622927Z",
     "start_time": "2019-11-15T23:35:24.132432Z"
    }
   },
   "outputs": [
    {
     "name": "stdout",
     "output_type": "stream",
     "text": [
      "x shapes:\n",
      "(50000, 784) (10000, 784) (10000, 784)\n"
     ]
    }
   ],
   "source": [
    "# split eval data from train data:\n",
    "eval_data_size = 10000\n",
    "train_data_size = 50000\n",
    "test_data_size = 10000\n",
    "\n",
    "X_eval = X_train[0:10000, :]\n",
    "y_eval = y_train[0:10000]\n",
    "X_train = X_train[10000:, :]\n",
    "y_train = y_train[10000:]\n",
    "\n",
    "# Convert to float\n",
    "X_train = X_train.astype(float)\n",
    "y_train = y_train.astype(float)\n",
    "X_test = X_test.astype(float)\n",
    "y_test = y_test.astype(float)\n",
    "print(\"x shapes:\")\n",
    "print(X_train.shape, X_eval.shape, X_test.shape)\n",
    "\n",
    "# normalize train data from range 0 to 255 to range 0 to 1\n",
    "X_train = X_train / 255\n",
    "X_eval = X_eval / 255\n",
    "X_test = X_test / 255"
   ]
  },
  {
   "cell_type": "code",
   "execution_count": 4,
   "metadata": {
    "ExecuteTime": {
     "end_time": "2019-11-15T23:35:25.072095Z",
     "start_time": "2019-11-15T23:35:24.986653Z"
    }
   },
   "outputs": [
    {
     "name": "stdout",
     "output_type": "stream",
     "text": [
      "y shapes:\n",
      "(50000, 10) (10000, 10) (10000, 10)\n"
     ]
    }
   ],
   "source": [
    "# transform to y to one hot encoded vectors:\n",
    "# each row is one y vector\n",
    "def make_one_hot(v):\n",
    "    \"\"\"\n",
    "    :param v: vector of the length of the dataset containing class labels from 0 to 9\n",
    "    :return: a matrix of dim(length dataset, 10), where the index of the corresponding label is set to one.\n",
    "    \"\"\"\n",
    "    num_samples = len(v)\n",
    "    num_labels  = len(np.unique(v))\n",
    "    \n",
    "    tmp = np.zeros((num_samples, num_labels))\n",
    "    for i in range(len(v)):\n",
    "        idx = int(v[i])\n",
    "        tmp[i][idx] = 1\n",
    "    v_one_hot = tmp\n",
    "    return v_one_hot\n",
    "\n",
    "y_train = make_one_hot(y_train)\n",
    "y_eval = make_one_hot(y_eval)\n",
    "y_test = make_one_hot(y_test)\n",
    "print(\"y shapes:\")\n",
    "print(y_train.shape, y_eval.shape, y_test.shape)"
   ]
  },
  {
   "cell_type": "code",
   "execution_count": 5,
   "metadata": {
    "ExecuteTime": {
     "end_time": "2019-11-15T23:35:26.222511Z",
     "start_time": "2019-11-15T23:35:26.198517Z"
    }
   },
   "outputs": [],
   "source": [
    "# Can change these for training\n",
    "batch_size = 100\n",
    "epochs = 10\n",
    "learning_rate = 0.01\n",
    "\n",
    "# usually one would use a random weight initialization, but for reproducible results we use fixed weights\n",
    "# Don't change these parameters\n",
    "W = np.ones((784, 10)) * 0.01\n",
    "b = np.ones((10)) * 0.01\n",
    "\n",
    "def get_next_batch(iteration, batch_size, data, label):\n",
    "    X = data[iteration * batch_size:(iteration + 1) * batch_size, :]\n",
    "    y = label[iteration * batch_size:(iteration + 1) * batch_size, :]\n",
    "    return X, y\n",
    "\n",
    "def get_loss(y_hat, y):\n",
    "    \"\"\"\n",
    "    :param y_hat: dim(batch_size,10)\n",
    "    :param y:     dim(batch_size,10)\n",
    "    :return:      loss value\n",
    "    \"\"\"\n",
    "    batch_size = y_hat.shape[0]\n",
    "    l = 0\n",
    "    for row_y, row_y_hat in zip(y, y_hat):\n",
    "        l += np.inner((row_y-row_y_hat), (row_y-row_y_hat))\n",
    "    return l / batch_size\n",
    "\n",
    "def get_accuracy(y_hat, y):\n",
    "    \"\"\"\n",
    "    the accuracy for one image is one if the maximum of y_hat has the same index as the 1 in y\n",
    "    :param y_hat:  dim(batch_size,10)\n",
    "    :param y:      dim(batch_size,10)\n",
    "    :return:       mean accuracy\n",
    "    \"\"\"\n",
    "    batch_size = y_hat.shape[0]\n",
    "    acc = 0\n",
    "    for row_y, row_y_hat in zip(y, y_hat):\n",
    "        if np.argmax(row_y) == np.argmax(row_y_hat):\n",
    "            acc += 1        \n",
    "    return acc / batch_size\n",
    "\n",
    "def do_network_inference(x, W, b):  # over whole batch\n",
    "    \"\"\"\n",
    "    :param x: dim(batchsize,784)\n",
    "    :return: dim(batchsize,10)\n",
    "    \"\"\"\n",
    "    batch_size = x.shape[0]\n",
    "    b = np.repeat(b, batch_size, axis=0).reshape(10, batch_size)\n",
    "    wx = np.matmul(np.transpose(W), np.transpose(x))\n",
    "    y_hat = np.add(wx, b)\n",
    "    return np.transpose(y_hat)\n",
    "\n",
    "def get_delta_weights(y_hat, y, x_batch):\n",
    "    \"\"\"\n",
    "    :param y_hat:   dim(batchsize,10)\n",
    "    :param y:       dim(batchsize,10)\n",
    "    :param x_batch: dim(batchsize,784)\n",
    "    :return:        dim(784,10)\n",
    "    \"\"\"\n",
    "    batch_size = x_batch.shape[0]    \n",
    "    delta_w = np.zeros((10, 784))\n",
    "    for row_y, row_y_hat, row_x_batch in zip(y, y_hat, x_batch):\n",
    "        tmp = np.outer(2*(row_y_hat - row_y), row_x_batch)\n",
    "        delta_w = np.add(delta_w, tmp)\n",
    "        \n",
    "    return np.transpose(delta_w) / batch_size\n",
    "\n",
    "def get_delta_biases(y_hat, y):\n",
    "    \"\"\"\n",
    "    :param y_hat:  dim(batchsize,10)\n",
    "    :param y:      dim(batchsize,10)\n",
    "    :return:       dim(10)\n",
    "    \"\"\"\n",
    "    delta_b = np.zeros(10)\n",
    "    batch_size = y.shape[0]\n",
    "    for row_y, row_y_hat in zip(y, y_hat):\n",
    "        delta_b = np.add(delta_b, 2*(row_y_hat - row_y))\n",
    "    \n",
    "    return delta_b / batch_size\n",
    "\n",
    "def do_parameter_update(delta_w, delta_b, W, b, eta):\n",
    "    \"\"\"\n",
    "    :param delta_w: dim(748,10)\n",
    "    :param delta_b: dim(10)\n",
    "    :param W:       dim(748,10)\n",
    "    :param b:       dim(10)\n",
    "    \"\"\"\n",
    "    # TODO update W and b\n",
    "    W -= eta*delta_w\n",
    "    b -= eta*delta_b\n",
    "    return W, b"
   ]
  },
  {
   "cell_type": "code",
   "execution_count": 6,
   "metadata": {
    "ExecuteTime": {
     "end_time": "2019-11-15T23:35:47.021927Z",
     "start_time": "2019-11-15T23:35:27.150534Z"
    },
    "scrolled": true
   },
   "outputs": [],
   "source": [
    "# do training and evaluation\n",
    "mean_eval_losses  = []\n",
    "mean_train_losses = []\n",
    "mean_eval_accs    = []\n",
    "mean_train_accs   = []\n",
    "\n",
    "for epoch in range(epochs):\n",
    "    # training\n",
    "    mean_train_loss_per_epoch = 0\n",
    "    mean_train_acc_per_epoch  = 0\n",
    "    for i in range(train_data_size // batch_size):\n",
    "        x, y = get_next_batch(i, batch_size, X_train, y_train)\n",
    "        y_hat = do_network_inference(x, W, b)\n",
    "        train_loss = get_loss(y_hat, y)\n",
    "        train_accuracy = get_accuracy(y_hat, y)\n",
    "        delta_w = get_delta_weights(y_hat, y, x)\n",
    "        delta_b = get_delta_biases(y_hat, y)\n",
    "        W, b = do_parameter_update(delta_w, delta_b, W, b, learning_rate)\n",
    "        mean_train_loss_per_epoch += train_loss\n",
    "        mean_train_acc_per_epoch  += train_accuracy\n",
    "#         print(\"epoch: {0:d} \\t iteration {1:d} \\t train loss: {2:f}\".format(epoch, i,train_loss))\n",
    "        \n",
    "    mean_train_loss_per_epoch /= ((train_data_size // batch_size))\n",
    "    mean_train_acc_per_epoch  /= ((train_data_size // batch_size))\n",
    "#     print(\"epoch:{0:d} \\t mean train loss: {1:f} \\t mean train acc: {2:f}\".format(epoch,mean_train_loss_per_epoch,\n",
    "#                                                                               mean_train_acc_per_epoch))\n",
    "    # evaluation:\n",
    "    mean_eval_loss_per_epoch = 0\n",
    "    mean_eval_acc_per_epoch  = 0\n",
    "    # Calculate the evaluation loss and accuracy\n",
    "    for i in range(eval_data_size // batch_size):\n",
    "        x, y = get_next_batch(i, batch_size, X_eval, y_eval)\n",
    "        y_hat = do_network_inference(x, W, b)\n",
    "        eval_loss = get_loss(y_hat, y)\n",
    "        eval_accuracy = get_accuracy(y_hat, y)\n",
    "        mean_eval_loss_per_epoch += eval_loss\n",
    "        mean_eval_acc_per_epoch  += eval_accuracy\n",
    "#         print(\"epoch: {0:d} \\t iteration {1:d} \\t eval loss: {2:f}\".format(epoch, i,eval_loss))\n",
    "\n",
    "    mean_eval_loss_per_epoch /= (eval_data_size // batch_size)\n",
    "    mean_eval_acc_per_epoch  /= ((eval_data_size // batch_size))\n",
    "#     print(\"epoch:{0:d} \\t mean eval loss: {1:f} \\t mean eval acc: {2:f}\".format(epoch,mean_eval_loss_per_epoch,\n",
    "#                                                                             mean_eval_acc_per_epoch))\n",
    "    mean_eval_losses.append(mean_eval_loss_per_epoch)\n",
    "    mean_train_losses.append(mean_train_loss_per_epoch)\n",
    "    mean_eval_accs.append(mean_eval_acc_per_epoch)\n",
    "    mean_train_accs.append(mean_train_acc_per_epoch)"
   ]
  },
  {
   "cell_type": "code",
   "execution_count": 9,
   "metadata": {
    "ExecuteTime": {
     "end_time": "2019-11-15T23:36:13.530580Z",
     "start_time": "2019-11-15T23:36:11.923368Z"
    }
   },
   "outputs": [
    {
     "name": "stdout",
     "output_type": "stream",
     "text": [
      "final test loss: 0.398787 \t final test acc: 0.850900\n"
     ]
    },
    {
     "data": {
      "image/png": "[encoded data removed]",
      "text/plain": [
       "<Figure size 1080x432 with 2 Axes>"
      ]
     },
     "metadata": {
      "needs_background": "light"
     },
     "output_type": "display_data"
    }
   ],
   "source": [
    "# Calculate the test loss and accuracy\n",
    "mean_test_losses = []\n",
    "mean_test_accs   = []\n",
    "\n",
    "for epoch in range(epochs):\n",
    "    # training\n",
    "    mean_test_loss_per_epoch = 0\n",
    "    mean_test_acc_per_epoch  = 0\n",
    "    for i in range(test_data_size // batch_size):\n",
    "        x, y = get_next_batch(i, batch_size, X_test, y_test)\n",
    "        y_hat = do_network_inference(x, W, b)\n",
    "        test_loss = get_loss(y_hat, y)\n",
    "        test_accuracy = get_accuracy(y_hat, y)\n",
    "        mean_test_loss_per_epoch += test_loss\n",
    "        mean_test_acc_per_epoch  += test_accuracy\n",
    "        \n",
    "    mean_test_loss_per_epoch = mean_test_loss_per_epoch / ((test_data_size // batch_size))\n",
    "    mean_test_acc_per_epoch  = mean_test_acc_per_epoch / ((test_data_size // batch_size))\n",
    "    mean_test_losses.append(mean_test_loss_per_epoch)\n",
    "    mean_test_accs.append(mean_test_acc_per_epoch)\n",
    "\n",
    "final_mean_test_loss = np.sum(mean_test_losses)/epochs\n",
    "final_mean_test_acc  = np.sum(mean_test_accs)/epochs\n",
    "    \n",
    "print(\"final test loss: {0:f} \\t final test acc: {1:f}\".format(final_mean_test_loss, final_mean_test_acc))\n",
    "\n",
    "fig, axs = plt.subplots(1, 2, figsize=(15, 6))\n",
    "ax1 = axs[0]\n",
    "ax2 = axs[1]\n",
    "\n",
    "ax1.plot(range(epochs), mean_train_losses, \"r\", label=\"train loss\")\n",
    "ax1.plot(range(epochs), mean_eval_losses, \"b\", label=\"eval loss\")\n",
    "ax1.set_xlabel(\"epoch\")\n",
    "ax1.set_ylabel(\"loss\")\n",
    "ax1.legend()\n",
    "\n",
    "ax2.plot(range(epochs), mean_train_accs, \"r\", label=\"train acc\")\n",
    "ax2.plot(range(epochs), mean_eval_accs, \"b\", label=\"eval acc\")\n",
    "ax2.set_xlabel(\"epoch\")\n",
    "ax2.set_ylabel(\"accuracy\")\n",
    "ax2.legend()\n",
    "\n",
    "plt.savefig('Results.png')"
   ]
  },
  {
   "cell_type": "code",
   "execution_count": null,
   "metadata": {},
   "outputs": [],
   "source": []
  }
 ],
 "metadata": {
  "kernelspec": {
   "display_name": "Python 3",
   "language": "python",
   "name": "python3"
  },
  "language_info": {
   "codemirror_mode": {
    "name": "ipython",
    "version": 3
   },
   "file_extension": ".py",
   "mimetype": "text/x-python",
   "name": "python",
   "nbconvert_exporter": "python",
   "pygments_lexer": "ipython3",
   "version": "3.7.4"
  },
  "varInspector": {
   "cols": {
    "lenName": 16,
    "lenType": 16,
    "lenVar": 40
   },
   "kernels_config": {
    "python": {
     "delete_cmd_postfix": "",
     "delete_cmd_prefix": "del ",
     "library": "var_list.py",
     "varRefreshCmd": "print(var_dic_list())"
    },
    "r": {
     "delete_cmd_postfix": ") ",
     "delete_cmd_prefix": "rm(",
     "library": "var_list.r",
     "varRefreshCmd": "cat(var_dic_list()) "
    }
   },
   "position": {
    "height": "616.85px",
    "left": "1066px",
    "right": "20px",
    "top": "120px",
    "width": "354px"
   },
   "types_to_exclude": [
    "module",
    "function",
    "builtin_function_or_method",
    "instance",
    "_Feature"
   ],
   "window_display": false
  }
 },
 "nbformat": 4,
 "nbformat_minor": 2
}
